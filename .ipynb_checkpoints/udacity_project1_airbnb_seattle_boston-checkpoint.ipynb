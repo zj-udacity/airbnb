{
 "cells": [
  {
   "cell_type": "markdown",
   "id": "c675eb61-122b-488f-a8df-71319f418824",
   "metadata": {},
   "source": [
    "### Import packages\n",
    "\n"
   ]
  },
  {
   "cell_type": "code",
   "execution_count": 276,
   "id": "76f5355a-cb5f-442a-a8ee-c86fbe6a3a6c",
   "metadata": {},
   "outputs": [],
   "source": [
    "import numpy as np\n",
    "import pandas as pd\n",
    "import matplotlib.pyplot as plt\n",
    "from sklearn.linear_model import LinearRegression\n",
    "from sklearn.model_selection import train_test_split\n",
    "from sklearn.metrics import r2_score, mean_squared_error\n",
    "from sklearn.preprocessing import StandardScaler\n",
    "from sklearn.linear_model import LinearRegression\n",
    "from sklearn.pipeline import make_pipeline\n",
    "import seaborn as sns\n",
    "%matplotlib inline\n"
   ]
  },
  {
   "cell_type": "markdown",
   "id": "e1ae6803-8c74-47be-9dc3-ad95ed2156fa",
   "metadata": {},
   "source": [
    "### Import files\n"
   ]
  },
  {
   "cell_type": "code",
   "execution_count": 259,
   "id": "55877222-fee1-44fc-b519-9cca4fbb00cc",
   "metadata": {},
   "outputs": [],
   "source": [
    "# Listings: full descriptions and average review score\n",
    "# Reviews: unique id for each reviewer and detailed comments\n",
    "# Calendar: listing id and the price and availability for that day\n",
    "\n",
    "df_seattle_calandar = pd.read_csv('./project1/Airbnb_project/Seattle/archive/calendar.csv')\n",
    "df_seattle_listings = pd.read_csv('./project1/Airbnb_project/Seattle/archive/listings.csv')\n",
    "df_seattle_reviews = pd.read_csv('./project1/Airbnb_project/Seattle/archive/reviews.csv')\n",
    "\n",
    "df_boston_calandar = pd.read_csv('./project1/Airbnb_project/Boston/archive/calendar.csv')\n",
    "df_boston_listings = pd.read_csv('./project1/Airbnb_project/Boston/archive/listings.csv')\n",
    "df_boston_reviews = pd.read_csv('./project1/Airbnb_project/Boston/archive/reviews.csv')\n"
   ]
  },
  {
   "cell_type": "markdown",
   "id": "56c73b98-6be2-49ae-b7a9-5a3f7059b0c7",
   "metadata": {},
   "source": [
    "### CRISP-DM Process\n",
    "1. Business Understanding\n",
    "2. Data Understanding\n",
    "3. Prepare Data\n",
    "4. Model Data\n",
    "5. Results\n",
    "6. Deployment (github)\n"
   ]
  },
  {
   "cell_type": "markdown",
   "id": "75365c8b-5169-4516-b3c2-a4f54736ace0",
   "metadata": {},
   "source": [
    "### Business Understanding\n",
    "\n",
    "#### 1. What features of listings are most correlated with high review scores in Seattle vs. Boston? (Listings datasets)\n",
    "\n",
    "\n",
    "#### 2. What is the impact of pricing strategies (e.g., discounting or premium pricing) on booking rates during high-demand periods? (Calendar)\n",
    "\n",
    "\n",
    "#### 3. Is there a difference in the length of stay preferences for guests in Seattle and Boston? (Calendar and Listings)\n",
    "\n",
    "Explore patterns in the length of stay for bookings in both cities (e.g., short-term vs. long-term stays). Compare whether one city has a higher frequency of short-term stays (weekend getaways) vs. longer stays (business or extended vacations). Analyze if length of stay impacts pricing differently in each city."
   ]
  },
  {
   "cell_type": "markdown",
   "id": "56209a27-e585-47fa-9258-0c2893b22fb3",
   "metadata": {},
   "source": [
    "# Question 1"
   ]
  },
  {
   "cell_type": "markdown",
   "id": "9943343f-04c1-43cd-838c-9d5d4278e889",
   "metadata": {},
   "source": [
    "### Prepare dataset \"listings\"\n"
   ]
  },
  {
   "cell_type": "markdown",
   "id": "0f7b8ecc-d793-4991-8aa2-be57bf99580f",
   "metadata": {},
   "source": [
    "First, we’ll check if there are any columns in the Listings datasets that contain only None or NaN values. These columns can be confidently removed as they do not provide any useful information."
   ]
  },
  {
   "cell_type": "code",
   "execution_count": 261,
   "id": "aca05784-f304-4ba2-badd-ff7a257c6abf",
   "metadata": {},
   "outputs": [],
   "source": [
    "nan_columns_df_seattle_listings = df_seattle_listings.columns[df_seattle_listings.isna().all()]\n",
    "nan_columns_df_boston_listings = df_boston_listings.columns[df_boston_listings.isna().all()]"
   ]
  },
  {
   "cell_type": "markdown",
   "id": "5a83285a-5ec1-4314-899a-32d9069b316a",
   "metadata": {},
   "source": [
    "The above code shows that there are no columns in the Listings datasets that are entirely null or NaN. Therefore, we need to be cautious when deciding which columns to drop, ensuring that we don't remove potentially valuable information."
   ]
  },
  {
   "cell_type": "code",
   "execution_count": 97,
   "id": "c240613f-dc6e-440b-a222-5b88a3b96128",
   "metadata": {},
   "outputs": [
    {
     "data": {
      "text/plain": [
       "Index(['id', 'scrape_id', 'host_id', 'host_listings_count',\n",
       "       'host_total_listings_count', 'latitude', 'longitude', 'accommodates',\n",
       "       'bathrooms', 'bedrooms', 'beds', 'square_feet', 'guests_included',\n",
       "       'minimum_nights', 'maximum_nights', 'availability_30',\n",
       "       'availability_60', 'availability_90', 'availability_365',\n",
       "       'number_of_reviews', 'review_scores_rating', 'review_scores_accuracy',\n",
       "       'review_scores_cleanliness', 'review_scores_checkin',\n",
       "       'review_scores_communication', 'review_scores_location',\n",
       "       'review_scores_value', 'license', 'calculated_host_listings_count',\n",
       "       'reviews_per_month'],\n",
       "      dtype='object')"
      ]
     },
     "execution_count": 97,
     "metadata": {},
     "output_type": "execute_result"
    }
   ],
   "source": [
    "df_seattle_listings_dropna_target.select_dtypes(include=['int64', 'float64']).columns"
   ]
  },
  {
   "cell_type": "code",
   "execution_count": 98,
   "id": "bda06aa4-f72f-4b0e-a275-d7e9cc85c813",
   "metadata": {},
   "outputs": [
    {
     "data": {
      "text/plain": [
       "Index(['listing_url', 'last_scraped', 'name', 'summary', 'space',\n",
       "       'description', 'experiences_offered', 'neighborhood_overview', 'notes',\n",
       "       'transit', 'thumbnail_url', 'medium_url', 'picture_url',\n",
       "       'xl_picture_url', 'host_url', 'host_name', 'host_since',\n",
       "       'host_location', 'host_about', 'host_response_time',\n",
       "       'host_response_rate', 'host_acceptance_rate', 'host_is_superhost',\n",
       "       'host_thumbnail_url', 'host_picture_url', 'host_neighbourhood',\n",
       "       'host_verifications', 'host_has_profile_pic', 'host_identity_verified',\n",
       "       'street', 'neighbourhood', 'neighbourhood_cleansed',\n",
       "       'neighbourhood_group_cleansed', 'city', 'state', 'zipcode', 'market',\n",
       "       'smart_location', 'country_code', 'country', 'is_location_exact',\n",
       "       'property_type', 'room_type', 'bed_type', 'amenities', 'price',\n",
       "       'weekly_price', 'monthly_price', 'security_deposit', 'cleaning_fee',\n",
       "       'extra_people', 'calendar_updated', 'has_availability',\n",
       "       'calendar_last_scraped', 'first_review', 'last_review',\n",
       "       'requires_license', 'jurisdiction_names', 'instant_bookable',\n",
       "       'cancellation_policy', 'require_guest_profile_picture',\n",
       "       'require_guest_phone_verification'],\n",
       "      dtype='object')"
      ]
     },
     "execution_count": 98,
     "metadata": {},
     "output_type": "execute_result"
    }
   ],
   "source": [
    "df_seattle_listings_dropna_target.select_dtypes(include=['object']).columns"
   ]
  },
  {
   "cell_type": "code",
   "execution_count": 262,
   "id": "1cb796cf-443a-487c-bb6a-ec0e5201547b",
   "metadata": {},
   "outputs": [],
   "source": [
    "# We can predict the review scores using the quantitative and categorical features available in the Listings dataset.\n",
    "\n",
    "columns_to_keep = [\n",
    "    'accommodates', 'bathrooms', 'bedrooms', 'beds', 'square_feet', \n",
    "    'guests_included', 'minimum_nights', 'maximum_nights', 'availability_30',\n",
    "    'availability_60', 'availability_90', 'availability_365', 'number_of_reviews', 'review_scores_value',\n",
    "    'calculated_host_listings_count', 'reviews_per_month', 'cancellation_policy', \n",
    "    'instant_bookable', 'price', 'room_type', 'property_type', 'neighbourhood', \n",
    "    'host_response_time']\n",
    "\n",
    "X_before_cleaning_seattle = df_seattle_listings[columns_to_keep]\n",
    "X_before_cleaning_boston = df_boston_listings[columns_to_keep]"
   ]
  },
  {
   "cell_type": "code",
   "execution_count": 264,
   "id": "751ba154-7cfe-420f-84f8-eb65e5194f4d",
   "metadata": {},
   "outputs": [
    {
     "data": {
      "text/plain": [
       "accommodates                         0\n",
       "bathrooms                           16\n",
       "bedrooms                             6\n",
       "beds                                 1\n",
       "square_feet                       3721\n",
       "guests_included                      0\n",
       "minimum_nights                       0\n",
       "maximum_nights                       0\n",
       "availability_30                      0\n",
       "availability_60                      0\n",
       "availability_90                      0\n",
       "availability_365                     0\n",
       "number_of_reviews                    0\n",
       "review_scores_value                656\n",
       "calculated_host_listings_count       0\n",
       "reviews_per_month                  627\n",
       "cancellation_policy                  0\n",
       "instant_bookable                     0\n",
       "price                                0\n",
       "room_type                            0\n",
       "property_type                        1\n",
       "neighbourhood                      416\n",
       "host_response_time                 523\n",
       "dtype: int64"
      ]
     },
     "execution_count": 264,
     "metadata": {},
     "output_type": "execute_result"
    }
   ],
   "source": [
    "# Calculate missing values for the specified columns\n",
    "missing_values_seattle =X_before_cleaning_seattle[columns_to_keep].isnull().sum()\n",
    "\n",
    "missing_values_seattle\n"
   ]
  },
  {
   "cell_type": "code",
   "execution_count": 265,
   "id": "ee5c180d-fd2c-47e0-a48e-f576ba234d07",
   "metadata": {},
   "outputs": [
    {
     "data": {
      "text/plain": [
       "accommodates                         0\n",
       "bathrooms                           14\n",
       "bedrooms                            10\n",
       "beds                                 9\n",
       "square_feet                       3529\n",
       "guests_included                      0\n",
       "minimum_nights                       0\n",
       "maximum_nights                       0\n",
       "availability_30                      0\n",
       "availability_60                      0\n",
       "availability_90                      0\n",
       "availability_365                     0\n",
       "number_of_reviews                    0\n",
       "review_scores_value                821\n",
       "calculated_host_listings_count       0\n",
       "reviews_per_month                  756\n",
       "cancellation_policy                  0\n",
       "instant_bookable                     0\n",
       "price                                0\n",
       "room_type                            0\n",
       "property_type                        3\n",
       "neighbourhood                      543\n",
       "host_response_time                 471\n",
       "dtype: int64"
      ]
     },
     "execution_count": 265,
     "metadata": {},
     "output_type": "execute_result"
    }
   ],
   "source": [
    "missing_values_boston = X_before_cleaning_boston[columns_to_keep].isnull().sum()\n",
    "\n",
    "missing_values_boston\n"
   ]
  },
  {
   "cell_type": "code",
   "execution_count": 266,
   "id": "ee60ea97-ee40-4b70-b312-c3c78d82cd14",
   "metadata": {},
   "outputs": [],
   "source": [
    "# removed_square_feet\n",
    "df_seattle_listings_dropna_target_dropped_sf = X_before_cleaning_seattle.drop('square_feet',axis=1)\n",
    "df_boston_listings_dropna_target_dropped_sf = X_before_cleaning_boston.drop('square_feet',axis=1)\n"
   ]
  },
  {
   "cell_type": "code",
   "execution_count": 244,
   "id": "2945923d-f36e-4e2d-9c1f-045ea17bb838",
   "metadata": {},
   "outputs": [],
   "source": [
    "# Convert 'price' to numeric by removing dollar signs and commas\n",
    "df_seattle_listings_dropna_target_dropped_sf['price'] = df_seattle_listings_dropna_target_dropped_sf['price'].replace({'$': '', ',': ''}, regex=True).astype(float)\n",
    "df_boston_listings_dropna_target_dropped_sf['price'] = df_boston_listings_dropna_target_dropped_sf['price'].replace({'$': '', ',': ''}, regex=True).astype(float)\n",
    "\n",
    "# remove NaN values form the remaining columns.\n",
    "df_seattle_listings_dropna_target_dropped_sf_removed_na = df_seattle_listings_dropna_target_dropped_sf.dropna(how='any', axis=0)\n",
    "df_boston_listings_dropna_target_dropped_sf_removed_na = df_boston_listings_dropna_target_dropped_sf.dropna(how='any', axis=0)"
   ]
  },
  {
   "cell_type": "code",
   "execution_count": 268,
   "id": "e36b2b4e-fbe1-485a-a95e-6cce6ca99582",
   "metadata": {},
   "outputs": [],
   "source": [
    "# Dummy the categorical variables\n",
    "\n",
    "cat_vars_seattle = df_seattle_listings_dropna_target_dropped_sf_removed_na.select_dtypes(include=['object']).copy().columns\n",
    "for var in  cat_vars_seattle:\n",
    "    # for each cat add dummy var, drop original column\n",
    "    df_seattle_listings_dropna_target_dropped_sf_removed_na  = pd.concat([df_seattle_listings_dropna_target_dropped_sf_removed_na .drop(var, axis=1), pd.get_dummies(df_seattle_listings_dropna_target_dropped_sf_removed_na [var], prefix=var, prefix_sep='_', drop_first=True)], axis=1)\n",
    "\n",
    "\n",
    "cat_vars_boston = df_boston_listings_dropna_target_dropped_sf_removed_na.select_dtypes(include=['object']).copy().columns\n",
    "for var in  cat_vars_boston:\n",
    "    # for each cat add dummy var, drop original column\n",
    "    df_boston_listings_dropna_target_dropped_sf_removed_na  = pd.concat([df_boston_listings_dropna_target_dropped_sf_removed_na .drop(var, axis=1), pd.get_dummies(df_boston_listings_dropna_target_dropped_sf_removed_na[var], prefix=var, prefix_sep='_', drop_first=True)], axis=1)\n"
   ]
  },
  {
   "cell_type": "code",
   "execution_count": 269,
   "id": "1faf943d-040d-4182-af9e-d7d2b2608e00",
   "metadata": {},
   "outputs": [],
   "source": [
    "X_q1_seattle = df_seattle_listings_dropna_target_dropped_sf_removed_na.drop('review_scores_value', axis=1)\n",
    "X_q1_boston = df_boston_listings_dropna_target_dropped_sf_removed_na.drop('review_scores_value',axis=1)\n",
    "\n",
    "y_q1_seattle = df_seattle_listings_dropna_target_dropped_sf_removed_na['review_scores_value']\n",
    "y_q1_boston = df_boston_listings_dropna_target_dropped_sf_removed_na['review_scores_value']"
   ]
  },
  {
   "cell_type": "markdown",
   "id": "a2df6131-be93-4379-8067-cf550a91f1af",
   "metadata": {},
   "source": [
    "### Model Data for Q1"
   ]
  },
  {
   "cell_type": "code",
   "execution_count": 273,
   "id": "d11e7c85-2a5d-499b-adca-fca64585bbbb",
   "metadata": {},
   "outputs": [
    {
     "data": {
      "text/plain": [
       "0.06170731212569802"
      ]
     },
     "execution_count": 273,
     "metadata": {},
     "output_type": "execute_result"
    }
   ],
   "source": [
    "# Split data into training and test data, and fit a linear \n",
    "\n",
    "X_q1_seattle_train, X_q1_seattle_test, y_q1_seattle_train, y_q1_seattle_test = train_test_split(X_q1_seattle, y_q1_seattle , test_size=.30, random_state=42)\n",
    "\n",
    "# Note: This pipeline first scales the features using StandardScaler and then fits a \n",
    "     #linear regression model. It’s a better approach than using the deprecated normalize argument\n",
    "lm_model_q1_seattle = make_pipeline(StandardScaler(), LinearRegression())\n",
    "\n",
    "\n",
    "lm_model_q1_seattle.fit(X_q1_seattle_train, y_q1_seattle_train)\n",
    "\n",
    "y_q1_seattle_test_preds = lm_model_q1_seattle.predict(X_q1_seattle_test)\n",
    "\n",
    "r2_q1_seattle_test = r2_score(y_q1_seattle_test,y_q1_seattle_test_preds) # Rsquared here for comparing test and preds from lm_model_q1_seattle\n",
    "r2_q1_seattle_test\n",
    "\n",
    "\n"
   ]
  },
  {
   "cell_type": "code",
   "execution_count": 274,
   "id": "c34e8e45-662f-42b6-9d28-db17936dbf12",
   "metadata": {
    "jp-MarkdownHeadingCollapsed": true
   },
   "outputs": [
    {
     "data": {
      "text/plain": [
       "-2.9216964143974492e+20"
      ]
     },
     "execution_count": 274,
     "metadata": {},
     "output_type": "execute_result"
    }
   ],
   "source": [
    "X_q1_boston_train, X_q1_boston_test, y_q1_boston_train, y_q1_boston_test = train_test_split(X_q1_boston, y_q1_boston , test_size=.30, random_state=42)\n",
    "\n",
    "lm_model_q1_boston = make_pipeline(StandardScaler(), LinearRegression())\n",
    "\n",
    "lm_model_q1_boston.fit(X_q1_boston_train, y_q1_boston_train)\n",
    "y_q1_boston_test_preds = lm_model_q1_boston.predict(X_q1_boston_test)\n",
    "r2_q1_boston_test = r2_score(y_q1_boston_test,y_q1_boston_test_preds) \n",
    "r2_q1_boston_test\n"
   ]
  },
  {
   "cell_type": "markdown",
   "id": "af09388c-c7c5-4123-87ff-25348b592d3d",
   "metadata": {},
   "source": [
    "### Result Evaluation for Q1"
   ]
  },
  {
   "cell_type": "markdown",
   "id": "0f2648ab-7e1d-44f1-9a50-4f3336e760f1",
   "metadata": {},
   "source": [
    "To understand which features are most correlated with high review scores, we need to examine the coefficients of the linear regression model."
   ]
  },
  {
   "cell_type": "code",
   "execution_count": 255,
   "id": "b8f47c44-032b-4d7b-a060-00494b500d83",
   "metadata": {},
   "outputs": [],
   "source": [
    "# Assume X_seattle is the feature matrix after encoding (if you used pd.get_dummies)\n",
    "encoded_feature_names_seattle = X_q1_seattle.columns  # This will reflect the correct feature names after encoding\n",
    "encoded_feature_names_boston = X_q1_boston.columns\n"
   ]
  },
  {
   "cell_type": "code",
   "execution_count": 256,
   "id": "a8953170-0fa1-4876-ae4c-4f636010fd0c",
   "metadata": {},
   "outputs": [
    {
     "name": "stdout",
     "output_type": "stream",
     "text": [
      "                                  Feature  Coefficient_Seattle  \\\n",
      "0                            accommodates            -0.145374   \n",
      "1                               bathrooms             0.037949   \n",
      "2                                bedrooms             0.015963   \n",
      "3                                    beds             0.104714   \n",
      "4                         guests_included            -0.035917   \n",
      "5                          minimum_nights             0.002332   \n",
      "6                          maximum_nights            -0.000327   \n",
      "7                         availability_30            -0.023902   \n",
      "8                         availability_60             0.009755   \n",
      "9                         availability_90            -0.061393   \n",
      "10                       availability_365            -0.016833   \n",
      "11                      number_of_reviews            -0.015624   \n",
      "12         calculated_host_listings_count            -0.108449   \n",
      "13                      reviews_per_month             0.107922   \n",
      "14                                  price             0.004973   \n",
      "15           cancellation_policy_moderate             0.007883   \n",
      "16             cancellation_policy_strict            -0.001065   \n",
      "17                     instant_bookable_t            -0.010808   \n",
      "18                 room_type_Private room            -0.002242   \n",
      "19                  room_type_Shared room             0.019447   \n",
      "20          property_type_Bed & Breakfast            -0.005161   \n",
      "21                     property_type_Boat             0.004460   \n",
      "22              property_type_Condominium             0.019658   \n",
      "23                     property_type_Dorm            -0.010646   \n",
      "24                    property_type_House             0.012896   \n",
      "25                     property_type_Loft            -0.007417   \n",
      "26                    property_type_Other             0.001906   \n",
      "27                property_type_Townhouse             0.037101   \n",
      "28        host_response_time_within a day             0.227557   \n",
      "29  host_response_time_within a few hours             0.263373   \n",
      "30      host_response_time_within an hour             0.331060   \n",
      "\n",
      "    Coefficient_Boston  \n",
      "0            -0.044448  \n",
      "1             0.048220  \n",
      "2             0.024475  \n",
      "3            -0.018474  \n",
      "4            -0.004774  \n",
      "5             0.043793  \n",
      "6            -0.050928  \n",
      "7             0.056414  \n",
      "8            -0.158373  \n",
      "9             0.022286  \n",
      "10           -0.072313  \n",
      "11           -0.020005  \n",
      "12           -0.148182  \n",
      "13            0.151216  \n",
      "14            0.056623  \n",
      "15            0.039277  \n",
      "16           -0.012900  \n",
      "17           -0.018639  \n",
      "18           -0.048104  \n",
      "19            0.020426  \n",
      "20            0.014138  \n",
      "21            0.012349  \n",
      "22            0.035732  \n",
      "23           -0.010466  \n",
      "24            0.058406  \n",
      "25            0.023507  \n",
      "26           -0.046843  \n",
      "27            0.001291  \n",
      "28           -0.004639  \n",
      "29           -0.075691  \n",
      "30           -0.093834  \n"
     ]
    }
   ],
   "source": [
    "# Get the coefficients using the correct feature names after encoding\n",
    "coefficients_seattle = pd.DataFrame({\n",
    "    'Feature': encoded_feature_names_seattle,\n",
    "    'Coefficient_Seattle': lm_model_q1_seattle.named_steps['linearregression'].coef_})\n",
    "\n",
    "coefficients_boston = pd.DataFrame({\n",
    "    'Feature': encoded_feature_names_boston,\n",
    "    'Coefficient_Boston': lm_model_q1_boston.named_steps['linearregression'].coef_})\n",
    "\n",
    "# Merge the results for easier comparison\n",
    "coefficients_comparison = coefficients_seattle.merge(coefficients_boston, on='Feature', how='inner')\n",
    "\n",
    "# Display the result\n",
    "print(coefficients_comparison)\n"
   ]
  },
  {
   "cell_type": "code",
   "execution_count": 277,
   "id": "927fe9f6-0091-475a-a1cb-d9db355c985a",
   "metadata": {},
   "outputs": [
    {
     "data": {
      "image/png": "[encoded data removed]",
      "text/plain": [
       "<Figure size 1000x800 with 1 Axes>"
      ]
     },
     "metadata": {},
     "output_type": "display_data"
    }
   ],
   "source": [
    "# Sort the features by the absolute value of the coefficients in Seattle\n",
    "coefficients_comparison['abs_Coefficient_Seattle'] = np.abs(coefficients_comparison['Coefficient_Seattle'])\n",
    "coefficients_comparison['abs_Coefficient_Boston'] = np.abs(coefficients_comparison['Coefficient_Boston'])\n",
    "\n",
    "# Sort by the absolute value of Seattle coefficients\n",
    "coefficients_sorted = coefficients_comparison.sort_values(by='abs_Coefficient_Seattle', ascending=False)\n",
    "\n",
    "# Select the top 10 features for visualization\n",
    "top_features = coefficients_sorted.head(10)\n",
    "\n",
    "# Plot the coefficients for Seattle and Boston side by side\n",
    "fig, ax = plt.subplots(figsize=(10, 8))\n",
    "\n",
    "# Plot Seattle coefficients\n",
    "ax.barh(top_features['Feature'], top_features['Coefficient_Seattle'], color='blue', alpha=0.6, label='Seattle')\n",
    "\n",
    "# Plot Boston coefficients\n",
    "ax.barh(top_features['Feature'], top_features['Coefficient_Boston'], color='orange', alpha=0.6, label='Boston')\n",
    "\n",
    "# Add labels and title\n",
    "ax.set_xlabel('Coefficient Value')\n",
    "ax.set_title('Top 10 Features Correlated with Review Scores: Seattle vs. Boston')\n",
    "ax.legend()\n",
    "\n",
    "# Show plot\n",
    "plt.tight_layout()\n",
    "plt.show()\n"
   ]
  },
  {
   "cell_type": "markdown",
   "id": "8e41fc59-9c11-4a29-bda5-a3118fb67e4e",
   "metadata": {},
   "source": [
    "### Results of Q1"
   ]
  },
  {
   "cell_type": "markdown",
   "id": "fc59c2a4-5cc0-4785-8cbc-a9b92c2fb80e",
   "metadata": {},
   "source": [
    "Key insights from the graph above:\n",
    "\n",
    "Property Type: Townhomes appear to be more popular in Seattle than in Boston.\n",
    "Bathrooms and Beds: A higher number of bathrooms and beds is associated with higher review scores.\n",
    "Response Time: The time it takes for hosts to respond to tenant inquiries is strongly correlated with review scores. Shorter response times lead to higher review scores."
   ]
  },
  {
   "cell_type": "markdown",
   "id": "2946ca6e-ac4f-4ff2-97e4-7cd405eccc6c",
   "metadata": {},
   "source": [
    "# Question 2\n",
    "\n",
    "What is the impact of pricing strategies (e.g., discounting or premium pricing) on booking rates on christmas day? (Calendar)\n"
   ]
  },
  {
   "cell_type": "code",
   "execution_count": 320,
   "id": "82ca6f46-9e77-4370-aec4-3f24c116ae3b",
   "metadata": {},
   "outputs": [
    {
     "name": "stderr",
     "output_type": "stream",
     "text": [
      "/var/folders/pp/_9g9bqld5wb47ph0cdnwm7_r0000gn/T/ipykernel_7618/2013492445.py:16: SettingWithCopyWarning: \n",
      "A value is trying to be set on a copy of a slice from a DataFrame.\n",
      "Try using .loc[row_indexer,col_indexer] = value instead\n",
      "\n",
      "See the caveats in the documentation: https://pandas.pydata.org/pandas-docs/stable/user_guide/indexing.html#returning-a-view-versus-a-copy\n",
      "  christmas_date_df_seattle['pricing_strategy'] = christmas_date_df_seattle['price'].apply(lambda x: 'Discounted' if x < avg_price_seattle else 'Premium')\n",
      "/var/folders/pp/_9g9bqld5wb47ph0cdnwm7_r0000gn/T/ipykernel_7618/2013492445.py:17: SettingWithCopyWarning: \n",
      "A value is trying to be set on a copy of a slice from a DataFrame.\n",
      "Try using .loc[row_indexer,col_indexer] = value instead\n",
      "\n",
      "See the caveats in the documentation: https://pandas.pydata.org/pandas-docs/stable/user_guide/indexing.html#returning-a-view-versus-a-copy\n",
      "  christmas_date_df_boston['pricing_strategy'] = christmas_date_df_boston['price'].apply(lambda x: 'Discounted' if x < avg_price_boston else 'Premium')\n"
     ]
    },
    {
     "data": {
      "image/png": "[encoded data removed]",
      "text/plain": [
       "<Figure size 640x480 with 1 Axes>"
      ]
     },
     "metadata": {},
     "output_type": "display_data"
    }
   ],
   "source": [
    "# Convert 'price' to numeric\n",
    "df_seattle_calandar['price'] = df_seattle_calandar['price'].replace({'$': '', ',': ''}, regex=True).astype(float)\n",
    "df_boston_calandar['price'] = df_boston_calandar['price'].replace({'$': '', ',': ''}, regex=True).astype(float)\n",
    "\n",
    "christmas_date = ['2016-12-25'] \n",
    "christmas_date_df_seattle = df_seattle_calandar[df_seattle_calandar['date'].isin(christmas_date)]\n",
    "christmas_date_df_boston = df_boston_calandar[df_boston_calandar['date'].isin(christmas_date)]\n",
    "\n",
    "\n",
    "# Calculate average price in christmas day \n",
    "avg_price_seattle = christmas_date_df_seattle['price'].mean()\n",
    "avg_price_boston = christmas_date_df_boston['price'].mean()\n",
    "\n",
    "\n",
    "# Categorize listings based on pricing strategies\n",
    "christmas_date_df_seattle['pricing_strategy'] = christmas_date_df_seattle['price'].apply(lambda x: 'Discounted' if x < avg_price_seattle else 'Premium')\n",
    "christmas_date_df_boston['pricing_strategy'] = christmas_date_df_boston['price'].apply(lambda x: 'Discounted' if x < avg_price_boston else 'Premium')\n",
    "\n",
    "\n",
    "# Calculate booking rates\n",
    "booking_rates_seattle = christmas_date_df_seattle.groupby('pricing_strategy').agg(total_booked_days=('available', lambda x: (x == 'f').sum()),\n",
    "    total_days=('available', 'count')\n",
    ").reset_index()\n",
    "\n",
    "booking_rates_seattle['booking_rate'] = booking_rates_seattle['total_booked_days'] / booking_rates_seattle['total_days']\n",
    "\n",
    "\n",
    "\n",
    "booking_rates_boston = christmas_date_df_boston.groupby('pricing_strategy').agg(total_booked_days=('available', lambda x: (x == 'f').sum()),\n",
    "    total_days=('available', 'count')\n",
    ").reset_index()\n",
    "\n",
    "booking_rates_boston['booking_rate'] = booking_rates_boston['total_booked_days'] / booking_rates_boston['total_days']\n",
    "\n",
    "\n",
    "\n",
    "# Visualize the booking rates\n",
    "\n",
    "\n",
    "plt.bar(booking_rates_boston['pricing_strategy'], booking_rates_boston['booking_rate'], label='Boston')\n",
    "plt.bar(booking_rates_seattle['pricing_strategy'], booking_rates_seattle['booking_rate'], label='Seattle')\n",
    "\n",
    "plt.title('Booking Rates by Pricing Strategy during High-Demand Periods')\n",
    "plt.xlabel('Pricing Strategy')\n",
    "plt.ylabel('Booking Rate')\n",
    "plt.legend()\n",
    "plt.show()\n"
   ]
  },
  {
   "cell_type": "markdown",
   "id": "c92ac63e-67fb-40d0-9fe4-62c4f66a2d24",
   "metadata": {},
   "source": [
    "### Results for Q2"
   ]
  },
  {
   "cell_type": "markdown",
   "id": "6b939156-b3d8-4723-af79-17cad8a026a8",
   "metadata": {},
   "source": [
    "The booking rate for Boston is higher than that for Seattle, suggesting that listings in Boston were booked more frequently during high-demand periods compared to Seattle.\n",
    "The difference in booking rates may indicate that:\n",
    "Boston listings might be more appealing to renters during high-demand periods.\n",
    "Pricing strategies in Boston may be more effective or favorable than in Seattle, leading to higher occupancy.\n",
    "Addressing the \"Where are the rest of the numbers?\"\n",
    "If your booking rates are summarized only for Discounted and Premium categories, and you have two distinct pricing strategies, the rates represent all the available listings for those strategies. The rates do not sum to 1 (100%) because they are specific to the categories defined.\n",
    "Additional Considerations\n",
    "Data Completeness: Ensure that your data captures all relevant listings and that the filtering for high-demand periods includes a representative sample.\n",
    "Analysis of Remaining Listings: If you have other categories or pricing strategies not included in your analysis, it may be useful to examine their booking rates separately.\n",
    "Granularity: If you're only analyzing two categories, consider whether there are significant numbers of listings in those categories, as a small number of listings can skew the results.\n"
   ]
  },
  {
   "cell_type": "markdown",
   "id": "05a46f2e-d3e9-4b1e-9e87-3fa3ca7fc390",
   "metadata": {},
   "source": [
    "# Question 3\n"
   ]
  },
  {
   "cell_type": "markdown",
   "id": "748066e0-1d8c-4bc6-abc1-149512767b3d",
   "metadata": {},
   "source": [
    "3. Is there a difference in the length of stay preferences for guests in Seattle and Boston? "
   ]
  },
  {
   "cell_type": "markdown",
   "id": "58cb8f61-dc0b-4b15-bb62-811e5c998b79",
   "metadata": {},
   "source": [
    "- Short-Term Stay: stays of 1–3 nights \n",
    "\n",
    "- Medium-Term Stay:stays of 4–7 nights \n",
    "\n",
    "- Long-Term Stay:  stays of 8+ nights "
   ]
  },
  {
   "cell_type": "code",
   "execution_count": 411,
   "id": "e1b86873-39dc-4fdf-a30e-f5d8572229e5",
   "metadata": {},
   "outputs": [
    {
     "name": "stderr",
     "output_type": "stream",
     "text": [
      "/var/folders/pp/_9g9bqld5wb47ph0cdnwm7_r0000gn/T/ipykernel_7618/3277546427.py:10: SettingWithCopyWarning: \n",
      "A value is trying to be set on a copy of a slice from a DataFrame.\n",
      "Try using .loc[row_indexer,col_indexer] = value instead\n",
      "\n",
      "See the caveats in the documentation: https://pandas.pydata.org/pandas-docs/stable/user_guide/indexing.html#returning-a-view-versus-a-copy\n",
      "  calendar_all_booked['date'] = pd.to_datetime(calendar_all_booked['date'])\n"
     ]
    },
    {
     "name": "stdout",
     "output_type": "stream",
     "text": [
      "stay_type  long  medium  short\n",
      "city                          \n",
      "Boston     5288    3838   4166\n",
      "Seattle    3719    2859   3141\n"
     ]
    }
   ],
   "source": [
    "# Merge calendar data with listings to get city information\n",
    "df_seattle_calandar['city'] = 'Seattle'\n",
    "df_boston_calandar['city'] = 'Boston'\n",
    "calendar_all = pd.concat([df_seattle_calandar, df_boston_calandar], ignore_index=True)\n",
    "\n",
    "calendar_all_booked = calendar_all[calendar_all['available'] == 'f']\n",
    "\n",
    "\n",
    "# Convert 'date' column to datetime\n",
    "calendar_all_booked['date'] = pd.to_datetime(calendar_all_booked['date'])\n",
    "\n",
    "\n",
    "# Sort values by listing_id and date to ensure proper grouping\n",
    "calendar_all_booked = calendar_all_booked.sort_values(by=['listing_id', 'date'])\n",
    "\n",
    "\n",
    "\n",
    "# Group by listing_id and find consecutive unavailable days (stays)\n",
    "calendar_all_booked['prev_date'] = calendar_all_booked.groupby('listing_id')['date'].shift(1)\n",
    "calendar_all_booked['stay_duration'] = (calendar_all_booked['date'] - calendar_all_booked['prev_date']).dt.days\n",
    "\n",
    "\n",
    "\n",
    "# If stay_duration is more than 1, it indicates the end of a booking period. So, we'll need to count stays.\n",
    "calendar_all_booked['new_stay'] = calendar_all_booked['stay_duration'].apply(lambda x: 1 if pd.isna(x) or x > 1 else 0)\n",
    "\n",
    "\n",
    "\n",
    "# Cumulative sum of new_stay to indicate different stays\n",
    "calendar_all_booked['stay_group'] = calendar_all_booked.groupby('listing_id')['new_stay'].cumsum()\n",
    "\n",
    "\n",
    "# For each stay, count the number of days (length of stay)\n",
    "stay_lengths = calendar_all_booked.groupby(['listing_id', 'stay_group', 'city']).size().reset_index(name='stay_length')\n",
    "\n",
    "\n",
    "\n",
    "# Summarize by city and stay type (short-term: <=3 days,medium-term: 4-7 days long-term: >8 days)\n",
    "stay_lengths['stay_type'] = stay_lengths['stay_length'].apply(\n",
    "    lambda x: 'short' if x <= 3 else 'medium' if 4 <= x <= 7 else 'long'\n",
    ")\n",
    "\n",
    "\n",
    "\n",
    "# Group by city and stay type to get the frequency of short-term vs long-term stays\n",
    "stay_summary = stay_lengths.groupby(['city', 'stay_type']).size().unstack().fillna(0)\n",
    "\n",
    "# Display stay summary\n",
    "print(stay_summary)\n"
   ]
  },
  {
   "cell_type": "code",
   "execution_count": 410,
   "id": "50e9c330-47aa-49da-a8f6-e1ade52722af",
   "metadata": {},
   "outputs": [
    {
     "data": {
      "image/png": "[encoded data removed]",
      "text/plain": [
       "<Figure size 640x480 with 1 Axes>"
      ]
     },
     "metadata": {},
     "output_type": "display_data"
    }
   ],
   "source": [
    "import matplotlib.pyplot as plt\n",
    "import numpy as np\n",
    "\n",
    "# Data from your table\n",
    "stay_data = {\n",
    "    'Boston': {'short': 4166, 'medium': 3838, 'long': 5288},\n",
    "    'Seattle': {'short': 3141, 'medium': 2859, 'long': 3719}\n",
    "}\n",
    "\n",
    "# Bar chart preparation\n",
    "categories = ['short', 'medium', 'long']\n",
    "cities = ['Boston', 'Seattle']\n",
    "\n",
    "# Heights of each stay type\n",
    "boston_stays = [stay_data['Boston'][stay_type] for stay_type in categories]\n",
    "seattle_stays = [stay_data['Seattle'][stay_type] for stay_type in categories]\n",
    "\n",
    "# Define bar width and positions\n",
    "bar_width = 0.35\n",
    "index = np.arange(len(categories))\n",
    "\n",
    "# Create bar chart\n",
    "fig, ax = plt.subplots()\n",
    "\n",
    "# Color scheme based on stay types\n",
    "colors = ['#1f77b4', '#ff7f0e', '#2ca02c']  # Blue, Orange, Green for Short, Medium, Long\n",
    "\n",
    "# Plot Boston bars\n",
    "ax.bar(index - bar_width / 2, boston_stays, bar_width, label='Boston', color=colors[0])\n",
    "\n",
    "# Plot Seattle bars next to Boston\n",
    "ax.bar(index + bar_width / 2, seattle_stays, bar_width, label='Seattle', color=colors[1])\n",
    "\n",
    "# Add labels and title\n",
    "ax.set_xlabel('Stay Type')\n",
    "ax.set_ylabel('Number of Stays')\n",
    "ax.set_title('Stay Duration Comparison (Boston vs. Seattle)')\n",
    "ax.set_xticks(index)\n",
    "ax.set_xticklabels(categories)\n",
    "ax.legend()\n",
    "\n",
    "# Display the plot\n",
    "plt.show()\n"
   ]
  },
  {
   "cell_type": "markdown",
   "id": "176b80d4-324a-4bcc-b80a-c441db795313",
   "metadata": {},
   "source": [
    "Results show that Boston is more favorable for any short-long visits than seattle in th eyear of 2016-2017."
   ]
  }
 ],
 "metadata": {
  "kernelspec": {
   "display_name": "Python 3 (ipykernel)",
   "language": "python",
   "name": "python3"
  },
  "language_info": {
   "codemirror_mode": {
    "name": "ipython",
    "version": 3
   },
   "file_extension": ".py",
   "mimetype": "text/x-python",
   "name": "python",
   "nbconvert_exporter": "python",
   "pygments_lexer": "ipython3",
   "version": "3.12.4"
  }
 },
 "nbformat": 4,
 "nbformat_minor": 5
}
